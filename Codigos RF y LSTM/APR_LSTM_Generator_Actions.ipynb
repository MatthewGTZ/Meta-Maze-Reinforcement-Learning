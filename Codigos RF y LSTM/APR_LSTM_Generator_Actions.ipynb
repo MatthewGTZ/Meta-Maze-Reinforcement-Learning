{
  "nbformat": 4,
  "nbformat_minor": 0,
  "metadata": {
    "colab": {
      "provenance": []
    },
    "kernelspec": {
      "name": "python3",
      "display_name": "Python 3"
    },
    "language_info": {
      "name": "python"
    }
  },
  "cells": [
    {
      "cell_type": "code",
      "execution_count": 75,
      "metadata": {
        "id": "81SPscsffzNA"
      },
      "outputs": [],
      "source": [
        "import torch\n",
        "from torch import nn\n",
        "from torch import optim\n",
        "import numpy as np\n",
        "from enum import Enum\n",
        "import time\n",
        "import pickle\n",
        "import matplotlib.pyplot as plt\n",
        "from sklearn.model_selection import train_test_split\n",
        "from sklearn.preprocessing import MinMaxScaler"
      ]
    },
    {
      "cell_type": "markdown",
      "source": [
        "### **RNN**"
      ],
      "metadata": {
        "id": "hMLcrk6KhEi8"
      }
    },
    {
      "cell_type": "code",
      "source": [
        "class LSTM(nn.Module):\n",
        "    def __init__(self, input_size, output_size, hidden_dim, n_layers):\n",
        "\n",
        "        # input size -> Dimension of the input signal\n",
        "        # outpusize -> Dimension of the output signal\n",
        "        # hidden_dim -> Dimension of the rnn state\n",
        "        # n_layers -> If >1, we are using a stacked RNN\n",
        "\n",
        "        super().__init__()\n",
        "\n",
        "        self.hidden_dim = hidden_dim\n",
        "\n",
        "        self.input_size = input_size\n",
        "\n",
        "        self.output_size = output_size\n",
        "\n",
        "        # batch_first=True means that the first dimension of the input will be the batch_size\n",
        "        self.lstm = nn.LSTM(input_size=input_size, hidden_size=hidden_dim, num_layers=n_layers, batch_first=True)\n",
        "\n",
        "        # One linear layer to estimate mean\n",
        "        self.linear1 = nn.Linear(hidden_dim, 4)\n",
        "\n",
        "        self.logsoftmax = nn.LogSoftmax(dim=1)\n",
        "\n",
        "    def forward(self, x, h0=None):\n",
        "\n",
        "        r_out, hidden = self.lstm(x, h0)\n",
        "        r_out = r_out.reshape(-1, self.hidden_dim)\n",
        "        sample = self.linear1(r_out)\n",
        "\n",
        "        return hidden, sample"
      ],
      "metadata": {
        "id": "NKi5KLnohL4S"
      },
      "execution_count": 76,
      "outputs": []
    },
    {
      "cell_type": "code",
      "source": [
        "class RNN_extended(LSTM):\n",
        "\n",
        "    def __init__(self, num_data_train, num_iter, sequence_length,\n",
        "                 input_size, output_size, hidden_dim, n_layers, lr=0.001):\n",
        "\n",
        "        super().__init__(input_size, output_size, hidden_dim, n_layers)\n",
        "\n",
        "        self.hidden_dim = hidden_dim\n",
        "\n",
        "        self.sequence_length = sequence_length\n",
        "\n",
        "        self.num_layers = n_layers\n",
        "\n",
        "        self.lr = lr #Learning Rate\n",
        "\n",
        "        self.num_train = num_data_train #Number of training signals\n",
        "\n",
        "        self.optim = optim.Adam(self.parameters(), self.lr)\n",
        "\n",
        "        self.num_iter = num_iter\n",
        "\n",
        "        self.criterion = torch.nn.CrossEntropyLoss()\n",
        "\n",
        "        # A list to store the loss evolution along training\n",
        "        self.loss_during_training = []\n",
        "        self.valid_loss_during_training = []\n",
        "\n",
        "\n",
        "    def trainloop(self, x_train, y_train, x_val, y_val):\n",
        "\n",
        "        # SGD Loop\n",
        "\n",
        "        for e in range(int(self.num_iter)):\n",
        "\n",
        "            self.optim.zero_grad()\n",
        "\n",
        "            x = torch.Tensor(x_train).view([-1,1])\n",
        "            y = torch.Tensor(y_train).view([-1]).to(torch.long)\n",
        "\n",
        "            hid,sample = self.forward(x)\n",
        "\n",
        "            loss = self.criterion(sample,y)\n",
        "\n",
        "            loss.backward()\n",
        "\n",
        "            # This code helps to avoid vanishing exploiting gradients in RNNs\n",
        "            # `clip_grad_norm` helps prevent the exploding gradient problem in RNNs / LSTMs.\n",
        "            nn.utils.clip_grad_norm_(self.parameters(), 2.0)\n",
        "\n",
        "            self.optim.step()\n",
        "\n",
        "            self.loss_during_training.append(loss.item())\n",
        "\n",
        "            with torch.no_grad():\n",
        "\n",
        "                  running_loss = 0.\n",
        "\n",
        "                  for i, x in enumerate(x_val):\n",
        "\n",
        "                      x = torch.Tensor(x).view([-1,1])\n",
        "                      y = torch.Tensor(y_val[i]).view([-1]).to(torch.long)\n",
        "\n",
        "                      hid,sample = self.forward(x)\n",
        "\n",
        "                      loss = self.criterion(sample,y)\n",
        "\n",
        "                      running_loss += loss.item()\n",
        "\n",
        "                  self.valid_loss_during_training.append(running_loss/len(x_val))\n",
        "\n",
        "            if(e % 50 == 0):\n",
        "              print('\\nTrain Epoch: {} -> Training Loss: {:.6f}'.format(e,self.loss_during_training[-1]))\n",
        "              print('Train Epoch: {} -> Validation Loss: {:.6f}'.format(e,self.valid_loss_during_training[-1]))\n",
        "\n",
        "\n",
        "\n",
        "    def eval_performance(self, x_test, y_test):\n",
        "        loss = 0\n",
        "        accuracy = 0\n",
        "\n",
        "        # Turn off gradients for validation, saves memory and computations\n",
        "        with torch.no_grad():\n",
        "\n",
        "            for i,x in enumerate(x_test):\n",
        "                x = torch.Tensor(x).view([-1,1])\n",
        "                y = torch.Tensor(y_test[i]).view([-1]).to(torch.long)\n",
        "\n",
        "                hid, sample= self.forward(x)\n",
        "                equals = (torch.argmax(sample, dim=1) == y)\n",
        "                accuracy += torch.mean(equals.type(torch.FloatTensor))\n",
        "\n",
        "            return accuracy/len(x_test)"
      ],
      "metadata": {
        "id": "Qgj8MbqclaJH"
      },
      "execution_count": 77,
      "outputs": []
    },
    {
      "cell_type": "markdown",
      "source": [
        "### **Lectura y procesado de experiencias**"
      ],
      "metadata": {
        "id": "v_2tOx7nhHoR"
      }
    },
    {
      "cell_type": "code",
      "source": [
        "with open(\"all_experiences.pickle\", 'rb') as f:\n",
        "    loaded_array = pickle.load(f)\n",
        "\n",
        "Y = loaded_array[:,1:]\n",
        "X = loaded_array[:,:-1]\n",
        "\n",
        "X = [[int(sublist[1]) for sublist in row] for row in X]\n",
        "Y = [[int(sublist[1]) for sublist in row] for row in Y]\n",
        "\n",
        "# Inicializamos un diccionario para contar el número de elementos en la quinta posición\n",
        "count_dict = {}\n",
        "\n",
        "# Iteramos sobre los arrays internos\n",
        "for array in Y:\n",
        "    # Obtenemos el valor en la quinta posición\n",
        "    value_at_fifth_position = array[4]\n",
        "\n",
        "    # Actualizamos el conteo en el diccionario\n",
        "    count_dict[value_at_fifth_position] = count_dict.get(value_at_fifth_position, 0) + 1\n",
        "\n",
        "# Imprimimos los resultados\n",
        "for value, count in count_dict.items():\n",
        "    print(f\"Valor {value}: {count} elementos\")\n",
        "\n",
        "\n",
        "\n",
        "from collections import defaultdict\n",
        "\n",
        "# Creamos un diccionario para contar cuántos elementos hay para cada valor en la quinta posición\n",
        "count_dict = defaultdict(list)\n",
        "for i, array in enumerate(Y):\n",
        "    value_at_fifth_position = array[4]\n",
        "    count_dict[value_at_fifth_position].append(i)\n",
        "\n",
        "# Determinamos el número mínimo de elementos para cada valor en la quinta posición\n",
        "min_elements = min(len(indices) for indices in count_dict.values())\n",
        "\n",
        "# Creamos nuevos arrays balanceados\n",
        "balanced_array_principal = [Y[i] for indices in count_dict.values() for i in indices[:min_elements]]\n",
        "balanced_otro_array = [X[i] for indices in count_dict.values() for i in indices[:min_elements]]\n",
        "\n",
        "X = balanced_otro_array\n",
        "Y = balanced_array_principal\n",
        "\n",
        "\n",
        "print(\"Tras balancear\")\n",
        "\n",
        "# Inicializamos un diccionario para contar el número de elementos en la quinta posición\n",
        "count_dict = {}\n",
        "\n",
        "# Iteramos sobre los arrays internos\n",
        "for array in balanced_array_principal:\n",
        "    # Obtenemos el valor en la quinta posición\n",
        "    value_at_fifth_position = array[4]\n",
        "\n",
        "    # Actualizamos el conteo en el diccionario\n",
        "    count_dict[value_at_fifth_position] = count_dict.get(value_at_fifth_position, 0) + 1\n",
        "\n",
        "# Imprimimos los resultados\n",
        "for value, count in count_dict.items():\n",
        "    print(f\"Valor {value}: {count} elementos\")"
      ],
      "metadata": {
        "id": "-XLKTk-zg71e",
        "colab": {
          "base_uri": "https://localhost:8080/"
        },
        "outputId": "fc7f5c0a-239b-4a28-fb27-ccf04c0e9540"
      },
      "execution_count": 78,
      "outputs": [
        {
          "output_type": "stream",
          "name": "stdout",
          "text": [
            "Valor 1: 20516 elementos\n",
            "Valor 3: 25745 elementos\n",
            "Valor 0: 17023 elementos\n",
            "Valor 2: 16241 elementos\n",
            "Tras balancear\n",
            "Valor 1: 16241 elementos\n",
            "Valor 3: 16241 elementos\n",
            "Valor 0: 16241 elementos\n",
            "Valor 2: 16241 elementos\n"
          ]
        }
      ]
    },
    {
      "cell_type": "code",
      "source": [
        "X_train, X_test, y_train, y_test = train_test_split(X, Y, test_size=0.20, shuffle=True, random_state=42)"
      ],
      "metadata": {
        "id": "kE6VlBg8U0SG"
      },
      "execution_count": 79,
      "outputs": []
    },
    {
      "cell_type": "code",
      "source": [
        "X_train, X_val, y_train, y_val = train_test_split(X_train, y_train, test_size=0.20, shuffle=True, random_state=42)"
      ],
      "metadata": {
        "id": "LO9JoyY-VLm4"
      },
      "execution_count": 80,
      "outputs": []
    },
    {
      "cell_type": "code",
      "source": [
        "len(X_train)"
      ],
      "metadata": {
        "colab": {
          "base_uri": "https://localhost:8080/"
        },
        "id": "v9aHb8y-PDmJ",
        "outputId": "c25ecac4-8965-4b36-f210-b8cbf6bf26dc"
      },
      "execution_count": 81,
      "outputs": [
        {
          "output_type": "execute_result",
          "data": {
            "text/plain": [
              "41576"
            ]
          },
          "metadata": {},
          "execution_count": 81
        }
      ]
    },
    {
      "cell_type": "markdown",
      "source": [
        "## **Entrenamiento**"
      ],
      "metadata": {
        "id": "z0oXCjBIluJw"
      }
    },
    {
      "cell_type": "code",
      "source": [
        "T_train = len(X_train[0])"
      ],
      "metadata": {
        "id": "XgV4zcRRYDM6"
      },
      "execution_count": 82,
      "outputs": []
    },
    {
      "cell_type": "code",
      "source": [
        "rnn_model = RNN_extended(num_data_train=len(X_train),num_iter=500,sequence_length=T_train,\n",
        "                     input_size=1,output_size=1,hidden_dim=8,n_layers=1,lr=0.005)"
      ],
      "metadata": {
        "id": "y4kn3EZ_llkk"
      },
      "execution_count": 83,
      "outputs": []
    },
    {
      "cell_type": "code",
      "source": [
        "rnn_model.trainloop(X_train,y_train, X_val, y_val)"
      ],
      "metadata": {
        "colab": {
          "base_uri": "https://localhost:8080/"
        },
        "id": "C4EJlFZylpP-",
        "outputId": "1228486d-bb93-4394-9ba5-9999a43f2a74"
      },
      "execution_count": 84,
      "outputs": [
        {
          "metadata": {
            "tags": null
          },
          "name": "stdout",
          "output_type": "stream",
          "text": [
            "\n",
            "Train Epoch: 0 -> Training Loss: 1.401115\n",
            "Train Epoch: 0 -> Validation Loss: 1.394070\n",
            "\n",
            "Train Epoch: 50 -> Training Loss: 1.278669\n",
            "Train Epoch: 50 -> Validation Loss: 1.286116\n",
            "\n",
            "Train Epoch: 100 -> Training Loss: 1.169238\n",
            "Train Epoch: 100 -> Validation Loss: 1.234140\n",
            "\n",
            "Train Epoch: 150 -> Training Loss: 1.044519\n",
            "Train Epoch: 150 -> Validation Loss: 1.189515\n",
            "\n",
            "Train Epoch: 200 -> Training Loss: 0.966227\n",
            "Train Epoch: 200 -> Validation Loss: 1.178287\n",
            "\n",
            "Train Epoch: 250 -> Training Loss: 0.920535\n",
            "Train Epoch: 250 -> Validation Loss: 1.175893\n",
            "\n",
            "Train Epoch: 300 -> Training Loss: 0.890754\n",
            "Train Epoch: 300 -> Validation Loss: 1.162101\n",
            "\n",
            "Train Epoch: 350 -> Training Loss: 0.858965\n",
            "Train Epoch: 350 -> Validation Loss: 1.156095\n",
            "\n",
            "Train Epoch: 400 -> Training Loss: 0.841341\n",
            "Train Epoch: 400 -> Validation Loss: 1.155653\n",
            "\n",
            "Train Epoch: 450 -> Training Loss: 0.830775\n",
            "Train Epoch: 450 -> Validation Loss: 1.161776\n"
          ]
        }
      ]
    },
    {
      "cell_type": "code",
      "source": [
        "print(rnn_model.eval_performance(X_test, y_test))"
      ],
      "metadata": {
        "colab": {
          "base_uri": "https://localhost:8080/"
        },
        "id": "Mb_m86BWW-U2",
        "outputId": "c3e10750-8d4f-40e5-a995-f0b47beb07a6"
      },
      "execution_count": 87,
      "outputs": [
        {
          "output_type": "stream",
          "name": "stdout",
          "text": [
            "tensor(0.5903)\n"
          ]
        }
      ]
    },
    {
      "cell_type": "code",
      "source": [
        "fig, ax = plt.subplots()\n",
        "plt.plot(rnn_model.loss_during_training, label='Training Loss', alpha=0.5)\n",
        "plt.plot(rnn_model.valid_loss_during_training, label='Validation Loss', alpha=0.5)\n",
        "plt.title(\"Loss over training and validation\")\n",
        "plt.legend()"
      ],
      "metadata": {
        "id": "TYWlEhxCvcf5",
        "colab": {
          "base_uri": "https://localhost:8080/",
          "height": 469
        },
        "outputId": "e607d3fd-0dbe-47fb-93d5-0914ccdd5eb6"
      },
      "execution_count": 85,
      "outputs": [
        {
          "output_type": "execute_result",
          "data": {
            "text/plain": [
              "<matplotlib.legend.Legend at 0x7aab0bad0b80>"
            ]
          },
          "metadata": {},
          "execution_count": 85
        },
        {
          "output_type": "display_data",
          "data": {
            "text/plain": [
              "<Figure size 640x480 with 1 Axes>"
            ],
            "image/png": "[encoded data removed]"
          },
          "metadata": {}
        }
      ]
    },
    {
      "cell_type": "markdown",
      "source": [
        "## **Guardado del modelo**"
      ],
      "metadata": {
        "id": "PqawFB3pviiB"
      }
    },
    {
      "cell_type": "code",
      "source": [
        "with open('lstm_model_actions.pkl', 'wb') as file:\n",
        "    pickle.dump(rnn_model, file)"
      ],
      "metadata": {
        "id": "h6u6jSF9vh8I"
      },
      "execution_count": 88,
      "outputs": []
    }
  ]
}