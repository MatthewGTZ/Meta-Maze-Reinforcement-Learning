{
  "cells": [
    {
      "cell_type": "code",
      "execution_count": 2,
      "metadata": {
        "id": "81SPscsffzNA"
      },
      "outputs": [],
      "source": [
        "import torch\n",
        "from torch import nn\n",
        "from torch import optim\n",
        "import numpy as np\n",
        "from enum import Enum\n",
        "import time\n",
        "import pickle\n",
        "import matplotlib.pyplot as plt\n",
        "from sklearn.model_selection import train_test_split\n",
        "from sklearn.preprocessing import MinMaxScaler"
      ]
    },
    {
      "cell_type": "markdown",
      "metadata": {
        "id": "hMLcrk6KhEi8"
      },
      "source": [
        "### **RNN**"
      ]
    },
    {
      "cell_type": "code",
      "execution_count": 3,
      "metadata": {
        "id": "NKi5KLnohL4S"
      },
      "outputs": [],
      "source": [
        "class LSTM(nn.Module):\n",
        "    def __init__(self, input_size, output_size, hidden_dim, n_layers,sigma):\n",
        "\n",
        "        # input size -> Dimension of the input signal\n",
        "        # outpusize -> Dimension of the output signal\n",
        "        # hidden_dim -> Dimension of the rnn state\n",
        "        # n_layers -> If >1, we are using a stacked RNN\n",
        "\n",
        "        super().__init__()\n",
        "\n",
        "        self.hidden_dim = hidden_dim\n",
        "\n",
        "        self.input_size = input_size\n",
        "\n",
        "        self.output_size = output_size\n",
        "\n",
        "        self.sigma = torch.Tensor(np.array(sigma))\n",
        "\n",
        "        # define an RNN with specified parameters\n",
        "        # batch_first=True means that the first dimension of the input will be the batch_size\n",
        "        self.lstm = nn.LSTM(input_size=input_size, hidden_size=hidden_dim, num_layers=n_layers, batch_first=True)\n",
        "\n",
        "        # One linear layer to estimate mean\n",
        "        self.linear1 = nn.Linear(hidden_dim, 4)\n",
        "\n",
        "        self.logsoftmax = nn.LogSoftmax(dim=1)\n",
        "\n",
        "    def forward(self, x, h0=None):\n",
        "\n",
        "        r_out, hidden = self.lstm(x, h0)\n",
        "        r_out = r_out.reshape(-1, self.hidden_dim)\n",
        "        sample = self.linear1(r_out)\n",
        "\n",
        "        return hidden, sample"
      ]
    },
    {
      "cell_type": "code",
      "execution_count": 4,
      "metadata": {
        "id": "Qgj8MbqclaJH"
      },
      "outputs": [],
      "source": [
        "class RNN_extended(LSTM):\n",
        "\n",
        "    def __init__(self, num_data_train, num_iter, sequence_length,\n",
        "                 input_size, output_size, hidden_dim, n_layers, sigma, lr=0.001):\n",
        "\n",
        "        super().__init__(input_size, output_size, hidden_dim, n_layers, sigma)\n",
        "\n",
        "        self.hidden_dim = hidden_dim\n",
        "\n",
        "        self.sequence_length = sequence_length\n",
        "\n",
        "        self.num_layers = n_layers\n",
        "\n",
        "        self.lr = lr #Learning Rate\n",
        "\n",
        "        self.num_train = num_data_train #Number of training signals\n",
        "\n",
        "        self.optim = optim.Adam(self.parameters(), self.lr)\n",
        "\n",
        "        self.num_iter = num_iter\n",
        "\n",
        "        self.criterion = torch.nn.CrossEntropyLoss()\n",
        "\n",
        "        # A list to store the loss evolution along training\n",
        "        self.loss_during_training = []\n",
        "        self.valid_loss_during_training = []\n",
        "\n",
        "\n",
        "    def trainloop(self, x_train, y_train, x_val, y_val):\n",
        "\n",
        "        # SGD Loop\n",
        "\n",
        "        for e in range(int(self.num_iter)):\n",
        "\n",
        "            self.optim.zero_grad()\n",
        "\n",
        "            x = torch.Tensor(x_train).view([-1,2])\n",
        "            y = torch.Tensor(y_train).view([-1]).to(torch.long)\n",
        "\n",
        "            hid,sample = self.forward(x)\n",
        "\n",
        "            loss = self.criterion(sample,y)\n",
        "\n",
        "            loss.backward()\n",
        "\n",
        "            # This code helps to avoid vanishing exploiting gradients in RNNs\n",
        "            # `clip_grad_norm` helps prevent the exploding gradient problem in RNNs / LSTMs.\n",
        "            nn.utils.clip_grad_norm_(self.parameters(), 2.0)\n",
        "\n",
        "            self.optim.step()\n",
        "\n",
        "            self.loss_during_training.append(loss.item())\n",
        "\n",
        "            with torch.no_grad():\n",
        "\n",
        "                  running_loss = 0.\n",
        "\n",
        "                  for i, x in enumerate(x_val):\n",
        "\n",
        "                      x = torch.Tensor(x).view([-1,2])\n",
        "                      y = torch.Tensor(y_val[i]).view([-1]).to(torch.long)\n",
        "\n",
        "                      hid,sample = self.forward(x)\n",
        "\n",
        "                      loss = self.criterion(sample,y)\n",
        "\n",
        "                      running_loss += loss.item()\n",
        "\n",
        "                  self.valid_loss_during_training.append(running_loss/len(x_val))\n",
        "\n",
        "            if(e % 50 == 0):\n",
        "              print('\\nTrain Epoch: {} -> Training Loss: {:.6f}'.format(e,self.loss_during_training[-1]))\n",
        "              print('Train Epoch: {} -> Validation Loss: {:.6f}'.format(e,self.valid_loss_during_training[-1]))\n",
        "\n",
        "\n",
        "\n",
        "    def eval_performance(self, x_test, y_test):\n",
        "        loss = 0\n",
        "        accuracy = 0\n",
        "\n",
        "        # Turn off gradients for validation, saves memory and computations\n",
        "        with torch.no_grad():\n",
        "\n",
        "            for i,x in enumerate(x_test):\n",
        "                x = torch.Tensor(x).view([-1,2])\n",
        "                y = torch.Tensor(y_test[i]).view([-1]).to(torch.long)\n",
        "\n",
        "                hid, sample= self.forward(x)\n",
        "                equals = (torch.argmax(sample, dim=1) == y)\n",
        "                accuracy += torch.mean(equals.type(torch.FloatTensor))\n",
        "\n",
        "            return accuracy/len(x_test)"
      ]
    },
    {
      "cell_type": "markdown",
      "metadata": {
        "id": "v_2tOx7nhHoR"
      },
      "source": [
        "### **Lectura y procesado de experiencias**"
      ]
    },
    {
      "cell_type": "code",
      "execution_count": 6,
      "metadata": {
        "id": "-XLKTk-zg71e",
        "colab": {
          "base_uri": "https://localhost:8080/"
        },
        "outputId": "00e5073d-32e3-449c-a067-9784c56fe1ce"
      },
      "outputs": [
        {
          "output_type": "stream",
          "name": "stdout",
          "text": [
            "[[15086, 3], [4380, 3], [14600, 3], [4380, 3], [14600, 1]] [[4380, 3], [14600, 3], [4380, 3], [14600, 1], [560, 1]]\n",
            "Valor 1: 20516 elementos\n",
            "Valor 3: 25745 elementos\n",
            "Valor 0: 17023 elementos\n",
            "Valor 2: 16241 elementos\n",
            "Tras balancear\n",
            "Valor 1: 16241 elementos\n",
            "Valor 3: 16241 elementos\n",
            "Valor 0: 16241 elementos\n",
            "Valor 2: 16241 elementos\n"
          ]
        }
      ],
      "source": [
        "with open(\"all_experiences.pickle\", 'rb') as f:\n",
        "    loaded_array = pickle.load(f)\n",
        "\n",
        "Y = loaded_array[:,1:]\n",
        "X = loaded_array[:,:-1]\n",
        "\n",
        "X = [[[int(sublist[0]), int(sublist[1])] for sublist in row] for row in X]\n",
        "Y = [[int(sublist[1]) for sublist in row] for row in Y]\n",
        "\n",
        "print(X[0], X[1])\n",
        "\n",
        "# Inicializamos un diccionario para contar el número de elementos en la quinta posición\n",
        "count_dict = {}\n",
        "\n",
        "# Iteramos sobre los arrays internos\n",
        "for array in Y:\n",
        "    # Obtenemos el valor en la quinta posición\n",
        "    value_at_fifth_position = array[4]\n",
        "\n",
        "    # Actualizamos el conteo en el diccionario\n",
        "    count_dict[value_at_fifth_position] = count_dict.get(value_at_fifth_position, 0) + 1\n",
        "\n",
        "# Imprimimos los resultados\n",
        "for value, count in count_dict.items():\n",
        "    print(f\"Valor {value}: {count} elementos\")\n",
        "\n",
        "\n",
        "\n",
        "from collections import defaultdict\n",
        "\n",
        "# Creamos un diccionario para contar cuántos elementos hay para cada valor en la quinta posición\n",
        "count_dict = defaultdict(list)\n",
        "for i, array in enumerate(Y):\n",
        "    value_at_fifth_position = array[4]\n",
        "    count_dict[value_at_fifth_position].append(i)\n",
        "\n",
        "# Determinamos el número mínimo de elementos para cada valor en la quinta posición\n",
        "min_elements = min(len(indices) for indices in count_dict.values())\n",
        "\n",
        "# Creamos nuevos arrays balanceados\n",
        "balanced_array_principal = [Y[i] for indices in count_dict.values() for i in indices[:min_elements]]\n",
        "balanced_otro_array = [X[i] for indices in count_dict.values() for i in indices[:min_elements]]\n",
        "\n",
        "X = balanced_otro_array\n",
        "Y = balanced_array_principal\n",
        "\n",
        "\n",
        "print(\"Tras balancear\")\n",
        "\n",
        "# Inicializamos un diccionario para contar el número de elementos en la quinta posición\n",
        "count_dict = {}\n",
        "\n",
        "# Iteramos sobre los arrays internos\n",
        "for array in balanced_array_principal:\n",
        "    # Obtenemos el valor en la quinta posición\n",
        "    value_at_fifth_position = array[4]\n",
        "\n",
        "    # Actualizamos el conteo en el diccionario\n",
        "    count_dict[value_at_fifth_position] = count_dict.get(value_at_fifth_position, 0) + 1\n",
        "\n",
        "# Imprimimos los resultados\n",
        "for value, count in count_dict.items():\n",
        "    print(f\"Valor {value}: {count} elementos\")\n",
        "\n",
        "\n",
        "\n",
        "from sklearn.preprocessing import MinMaxScaler\n",
        "X = np.array(X).reshape(-1, 2)\n",
        "scaler = MinMaxScaler()\n",
        "X = scaler.fit_transform(X)\n",
        "X = X.reshape(-1, 5, 2)"
      ]
    },
    {
      "cell_type": "code",
      "execution_count": 7,
      "metadata": {
        "id": "kE6VlBg8U0SG"
      },
      "outputs": [],
      "source": [
        "X_train, X_test, y_train, y_test = train_test_split(X, Y, test_size=0.20, shuffle=True, random_state=42)"
      ]
    },
    {
      "cell_type": "code",
      "execution_count": 8,
      "metadata": {
        "id": "LO9JoyY-VLm4"
      },
      "outputs": [],
      "source": [
        "X_train, X_val, y_train, y_val = train_test_split(X_train, y_train, test_size=0.20, shuffle=True, random_state=42)"
      ]
    },
    {
      "cell_type": "code",
      "source": [
        "len(X_train)"
      ],
      "metadata": {
        "colab": {
          "base_uri": "https://localhost:8080/"
        },
        "id": "FTzHp4KWEFDJ",
        "outputId": "c350b933-d50d-4c1e-cee2-329b306ba7ad"
      },
      "execution_count": 9,
      "outputs": [
        {
          "output_type": "execute_result",
          "data": {
            "text/plain": [
              "41576"
            ]
          },
          "metadata": {},
          "execution_count": 9
        }
      ]
    },
    {
      "cell_type": "markdown",
      "metadata": {
        "id": "z0oXCjBIluJw"
      },
      "source": [
        "## **Entrenamiento**"
      ]
    },
    {
      "cell_type": "code",
      "execution_count": 10,
      "metadata": {
        "id": "XgV4zcRRYDM6"
      },
      "outputs": [],
      "source": [
        "T_train = len(X_train[0])"
      ]
    },
    {
      "cell_type": "code",
      "execution_count": 11,
      "metadata": {
        "id": "y4kn3EZ_llkk"
      },
      "outputs": [],
      "source": [
        "rnn_model = RNN_extended(num_data_train=len(X_train),num_iter=500,sequence_length=T_train,\n",
        "                     input_size=2,output_size=1,hidden_dim=8,n_layers=1,sigma=0.1,lr=0.005)"
      ]
    },
    {
      "cell_type": "code",
      "execution_count": 12,
      "metadata": {
        "colab": {
          "base_uri": "https://localhost:8080/"
        },
        "id": "C4EJlFZylpP-",
        "outputId": "ade1843f-8398-4928-b1a8-c4507ab50d2b"
      },
      "outputs": [
        {
          "output_type": "stream",
          "name": "stdout",
          "text": [
            "\n",
            "Train Epoch: 0 -> Training Loss: 1.415086\n",
            "Train Epoch: 0 -> Validation Loss: 1.406101\n",
            "\n",
            "Train Epoch: 50 -> Training Loss: 1.348953\n",
            "Train Epoch: 50 -> Validation Loss: 1.355871\n",
            "\n",
            "Train Epoch: 100 -> Training Loss: 1.267516\n",
            "Train Epoch: 100 -> Validation Loss: 1.270699\n",
            "\n",
            "Train Epoch: 150 -> Training Loss: 1.186321\n",
            "Train Epoch: 150 -> Validation Loss: 1.238590\n",
            "\n",
            "Train Epoch: 200 -> Training Loss: 1.094867\n",
            "Train Epoch: 200 -> Validation Loss: 1.182581\n",
            "\n",
            "Train Epoch: 250 -> Training Loss: 0.999888\n",
            "Train Epoch: 250 -> Validation Loss: 1.142088\n",
            "\n",
            "Train Epoch: 300 -> Training Loss: 0.924697\n",
            "Train Epoch: 300 -> Validation Loss: 1.061088\n",
            "\n",
            "Train Epoch: 350 -> Training Loss: 0.880734\n",
            "Train Epoch: 350 -> Validation Loss: 0.990135\n",
            "\n",
            "Train Epoch: 400 -> Training Loss: 0.846775\n",
            "Train Epoch: 400 -> Validation Loss: 0.941540\n",
            "\n",
            "Train Epoch: 450 -> Training Loss: 0.817646\n",
            "Train Epoch: 450 -> Validation Loss: 0.879513\n"
          ]
        }
      ],
      "source": [
        "rnn_model.trainloop(X_train,y_train, X_val, y_val)"
      ]
    },
    {
      "cell_type": "code",
      "execution_count": 15,
      "metadata": {
        "id": "Mb_m86BWW-U2",
        "colab": {
          "base_uri": "https://localhost:8080/"
        },
        "outputId": "16fc8c68-fe70-41fc-ae49-504c34b668f3"
      },
      "outputs": [
        {
          "output_type": "stream",
          "name": "stdout",
          "text": [
            "tensor(0.6558)\n"
          ]
        }
      ],
      "source": [
        "print(rnn_model.eval_performance(X_test, y_test))"
      ]
    },
    {
      "cell_type": "code",
      "execution_count": 13,
      "metadata": {
        "id": "TYWlEhxCvcf5",
        "colab": {
          "base_uri": "https://localhost:8080/",
          "height": 469
        },
        "outputId": "054872c9-4514-4002-a5ab-76176eb9c4ea"
      },
      "outputs": [
        {
          "output_type": "execute_result",
          "data": {
            "text/plain": [
              "<matplotlib.legend.Legend at 0x789bdbdcc0a0>"
            ]
          },
          "metadata": {},
          "execution_count": 13
        },
        {
          "output_type": "display_data",
          "data": {
            "text/plain": [
              "<Figure size 640x480 with 1 Axes>"
            ],
            "image/png": "[encoded data removed]"
          },
          "metadata": {}
        }
      ],
      "source": [
        "fig, ax = plt.subplots()\n",
        "plt.plot(rnn_model.loss_during_training, label='Training Loss', alpha=0.5)\n",
        "plt.plot(rnn_model.valid_loss_during_training, label='Validation Loss', alpha=0.5)\n",
        "plt.title(\"Loss over training and validation\")\n",
        "plt.legend()"
      ]
    },
    {
      "cell_type": "markdown",
      "metadata": {
        "id": "PqawFB3pviiB"
      },
      "source": [
        "## **Guardado del modelo**"
      ]
    },
    {
      "cell_type": "code",
      "execution_count": 16,
      "metadata": {
        "id": "h6u6jSF9vh8I"
      },
      "outputs": [],
      "source": [
        "with open('lstm_model_surroundings_actions.pkl', 'wb') as file:\n",
        "    pickle.dump(rnn_model, file)"
      ]
    },
    {
      "cell_type": "code",
      "source": [
        "with open('lstm_scaler_surroundings_actions.pkl', 'wb') as file:\n",
        "    pickle.dump(scaler, file)"
      ],
      "metadata": {
        "id": "COq9P8quUWBL"
      },
      "execution_count": 17,
      "outputs": []
    }
  ],
  "metadata": {
    "colab": {
      "provenance": []
    },
    "kernelspec": {
      "display_name": "Python 3",
      "name": "python3"
    },
    "language_info": {
      "name": "python"
    }
  },
  "nbformat": 4,
  "nbformat_minor": 0
}